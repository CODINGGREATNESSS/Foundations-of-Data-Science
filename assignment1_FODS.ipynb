{
 "cells": [
  {
   "cell_type": "markdown",
   "metadata": {},
   "source": [
    "Assignment 1: Reading and writing different types of datasets."
   ]
  },
  {
   "cell_type": "markdown",
   "metadata": {},
   "source": [
    "-----------------Local Disk storage------------------------------"
   ]
  },
  {
   "cell_type": "markdown",
   "metadata": {},
   "source": [
    "Reading and writing csv files with the read_csv() function of pandas."
   ]
  },
  {
   "cell_type": "code",
   "execution_count": 2,
   "metadata": {},
   "outputs": [],
   "source": [
    "import pandas as pd  #Import pandas\n",
    "iris_csv_dataset=pd.read_csv(r\"C:\\Users\\Dell\\Downloads\\iris.csv\")"
   ]
  },
  {
   "cell_type": "code",
   "execution_count": 26,
   "metadata": {},
   "outputs": [],
   "source": [
    "iris_csv_dataset.to_csv(r\"C:\\Users\\Dell\\Downloads\\output.csv\", index=False)"
   ]
  },
  {
   "cell_type": "markdown",
   "metadata": {},
   "source": [
    "Reading and writing into a txt file."
   ]
  },
  {
   "cell_type": "code",
   "execution_count": 6,
   "metadata": {},
   "outputs": [],
   "source": [
    "dataset2=r\"C:\\Users\\Dell\\OneDrive\\Desktop\\disha\\OOPjava.txt\"\n",
    "\n",
    "# Using open() to read the file\n",
    "with open(dataset2, 'r') as file:\n",
    "    data = file.read()\n"
   ]
  },
  {
   "cell_type": "code",
   "execution_count": 7,
   "metadata": {},
   "outputs": [],
   "source": [
    "# Data to write to the file\n",
    "new_data = \"This is the new content which will be written to the file.\"\n",
    "\n",
    "# Open the file in write mode ('w') and write new data\n",
    "with open(dataset2, 'w') as file:\n",
    "    file.write(new_data)"
   ]
  },
  {
   "cell_type": "markdown",
   "metadata": {},
   "source": [
    "Reading and writing into an xml(Extensible markup Language) file"
   ]
  },
  {
   "cell_type": "code",
   "execution_count": 15,
   "metadata": {},
   "outputs": [
    {
     "name": "stdout",
     "output_type": "stream",
     "text": [
      "Name: Marks in FODS, Marks: 100\n",
      "Name: Marks in DCCN, Marks: 100\n"
     ]
    }
   ],
   "source": [
    "#This works if you have the lxml library.\n",
    "#dataset_3=pd.read_xml(r\"C:\\Users\\Dell\\Downloads\\sample1.xml\")\n",
    "#I do not have this so lets use xml.etree.ElementTree\n",
    "\n",
    "import xml.etree.ElementTree as ET\n",
    "\n",
    "# Example XML string \n",
    "xml_string = \"\"\"\n",
    "<data>\n",
    "    <item>\n",
    "        <name>Marks in FODS</name>\n",
    "        <marks>100</marks>\n",
    "    </item>\n",
    "    <item>\n",
    "        <name>Marks in DCCN</name>\n",
    "        <marks>100</marks>\n",
    "    </item>\n",
    "</data>\n",
    "\"\"\"\n",
    "\n",
    "# Parse the XML\n",
    "root = ET.fromstring(xml_string)\n",
    "\n",
    "# Print out the names and prices of the items\n",
    "for item in root.findall('item'):\n",
    "    name = item.find('name').text\n",
    "    marks = item.find('marks').text\n",
    "    print(f\"Name: {name}, Marks: {marks}\")\n"
   ]
  },
  {
   "cell_type": "code",
   "execution_count": 20,
   "metadata": {},
   "outputs": [
    {
     "name": "stdout",
     "output_type": "stream",
     "text": [
      "XML file written to C:\\Users\\Dell\\Downloads\\output.xml\n"
     ]
    }
   ],
   "source": [
    "dataset_3=pd.read_xml(r\"C:\\Users\\Dell\\Downloads\\sample1.xml\")\n",
    "########### Writing into an xml file ###############\n",
    "# Create an XML structure to write\n",
    "root = ET.Element(\"root\")  # Create the root element\n",
    "child = ET.SubElement(root, \"child\")  # Add a child element\n",
    "child.text = \"Example XML Data\"  # Set the text for the child element\n",
    "\n",
    "# Write the XML structure to an output file\n",
    "tree = ET.ElementTree(root)  # Create an ElementTree object\n",
    "output_path = r\"C:\\Users\\Dell\\Downloads\\output.xml\"  # Define the output file path\n",
    "\n",
    "# Write the XML structure to the file\n",
    "with open(output_path, 'wb') as file:\n",
    "    tree.write(file, encoding='utf-8', xml_declaration=True)\n",
    "\n",
    "print(f\"XML file written to {output_path}\")"
   ]
  },
  {
   "cell_type": "markdown",
   "metadata": {},
   "source": [
    "---------------Reading different types of files from the web---------------\n"
   ]
  },
  {
   "cell_type": "code",
   "execution_count": 34,
   "metadata": {},
   "outputs": [],
   "source": [
    "from sklearn.datasets import load_iris,load_digits\n",
    "\n",
    "# Load Iris dataset\n",
    "iris = load_iris()\n",
    "hand=load_digits()   #Handwritten digits dataset\n"
   ]
  }
 ],
 "metadata": {
  "kernelspec": {
   "display_name": "Python 3",
   "language": "python",
   "name": "python3"
  },
  "language_info": {
   "codemirror_mode": {
    "name": "ipython",
    "version": 3
   },
   "file_extension": ".py",
   "mimetype": "text/x-python",
   "name": "python",
   "nbconvert_exporter": "python",
   "pygments_lexer": "ipython3",
   "version": "3.12.3"
  }
 },
 "nbformat": 4,
 "nbformat_minor": 2
}
