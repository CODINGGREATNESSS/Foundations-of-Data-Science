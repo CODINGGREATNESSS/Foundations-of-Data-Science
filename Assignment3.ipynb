{
  "nbformat": 4,
  "nbformat_minor": 0,
  "metadata": {
    "colab": {
      "provenance": []
    },
    "kernelspec": {
      "name": "python3",
      "display_name": "Python 3"
    },
    "language_info": {
      "name": "python"
    }
  },
  "cells": [
    {
      "cell_type": "markdown",
      "source": [
        "## Covariance\n",
        "Covariance is a measure of the relationship between two random variables. It measures how two random random variables vary together.\n",
        "\n",
        "Covariance is a quantitative measure of the degree to which the deviation of one variable (X) from its mean is related to the deviation of another variable (Y) from its mean.\n",
        "\n",
        "##### Covariance measures the joint variability of two random variables.\n",
        "\n",
        "Unlike Variance, which is non-negative, Covariance can be negative or positive (or zero, of course). A positive value of Covariance means that two random variables tend to vary in the same direction, a negative value means that they vary in opposite directions, and a 0 means that they don’t vary together.\n",
        "\n",
        "***Covariance values can vary from -∞ to +∞.***\n",
        "\n",
        "***Formula:***\n",
        "\n",
        "$Cov_{x,y}=\\frac{\\Sigma{(x_i-\\overline{x})}{(y_i-\\overline{y})}}{N-1}$\n",
        "\n",
        "***Types of Covariance:***\n",
        "\n",
        "There are mainly two types of Covariance: Positive and negative covariance.\n",
        "\n",
        "*Positive Covariance:*\n",
        "Positive covariance means both the variables (X, Y) move in the same direction (i.e. show similar behavior).\n",
        "\n",
        "*Negative Covariance:*\n",
        "Negative covariance means both the variables (X, Y) move in the opposite direction.\n",
        "\n",
        "**How to understand and interpret the values of Covariance**: If Covariance is 0 means no relationship between two variables. Covariance can tell you when two things vary together (Covariance is positive).\n",
        "\n"
      ],
      "metadata": {
        "id": "2CJfN5BDCELQ"
      }
    },
    {
      "cell_type": "code",
      "execution_count": 1,
      "metadata": {
        "id": "DdgoHy0CU4V8"
      },
      "outputs": [],
      "source": [
        "import pandas as pd\n",
        "import numpy as np\n",
        "from sklearn import datasets\n",
        "data=datasets.load_iris()\n",
        "data=pd.DataFrame(data.data, columns=['sepal length (cm)','sepal width (cm)','petal length (cm)',\n",
        "'petal width (cm)'])"
      ]
    },
    {
      "cell_type": "code",
      "source": [
        "import pandas as pd\n",
        "def mean_impl(data):\n",
        "    data=np.asarray(data)\n",
        "    s=data.sum()/len(data)\n",
        "    return s\n",
        "mean_impl(data.iloc[:,0:1])"
      ],
      "metadata": {
        "colab": {
          "base_uri": "https://localhost:8080/"
        },
        "id": "3dpFmIHqU6PH",
        "outputId": "c3bef7db-b4b2-4e68-dfcc-2cdf4d6d2abd"
      },
      "execution_count": 2,
      "outputs": [
        {
          "output_type": "execute_result",
          "data": {
            "text/plain": [
              "5.843333333333334"
            ]
          },
          "metadata": {},
          "execution_count": 2
        }
      ]
    },
    {
      "cell_type": "code",
      "source": [
        "def covariance_implmentation(data):\n",
        "    size=data.shape[1]\n",
        "    a=(np.asarray(data.iloc[:,0:1])-mean_impl(data.iloc[:,0:1]))\n",
        "    if(size==2):\n",
        "        b=(np.asarray(data.iloc[:,1:2])-mean_impl(data.iloc[:,1:2]))\n",
        "    else:\n",
        "        b=(np.asarray(data.iloc[:,0:1])-mean_impl(data.iloc[:,0:1]))\n",
        "    p=((a*b).sum())\n",
        "    return p/(data.shape[0]-1)\n",
        "covariance_implmentation(data.iloc[:,0:2])"
      ],
      "metadata": {
        "colab": {
          "base_uri": "https://localhost:8080/"
        },
        "id": "VqqjIQEuVDUk",
        "outputId": "7efcb8bb-42aa-44b1-f4c7-a13a8ad004b3"
      },
      "execution_count": 3,
      "outputs": [
        {
          "output_type": "execute_result",
          "data": {
            "text/plain": [
              "-0.04243400447427292"
            ]
          },
          "metadata": {},
          "execution_count": 3
        }
      ]
    },
    {
      "cell_type": "markdown",
      "source": [
        "### Covariance Matrix for all features of dataset\n",
        "\n",
        "The covariance matrix is also known as the variance-covariance matrix, as the diagonal values of the covariance matrix show variances and the other values are the covariances.\n",
        "\n",
        "The covariance matrix is a square matrix which can be written as follows:\n",
        "\n",
        "$C=\\frac{\\Sigma_{i=1}^{n}(X_i-\\overline{X})(X_i-\\overline{X})^T}{N-1}$\n",
        "\n"
      ],
      "metadata": {
        "id": "esZZtiZvCg_u"
      }
    },
    {
      "cell_type": "code",
      "source": [
        "def Covariance_matrix(data):\n",
        "    result=[]\n",
        "    for i in range(data.shape[1]):\n",
        "        for j in range(data.shape[1]):\n",
        "            result.append(covariance_implmentation(data.iloc[:,[i,j]]))\n",
        "    print(np.asarray(result).reshape(data.shape[1],data.shape[1]))\n",
        "Covariance_matrix(data)"
      ],
      "metadata": {
        "colab": {
          "base_uri": "https://localhost:8080/"
        },
        "id": "DX1HgqPTVGdu",
        "outputId": "6bf8c0c3-70bf-497e-c0a4-553f1fbee5a7"
      },
      "execution_count": 4,
      "outputs": [
        {
          "output_type": "stream",
          "name": "stdout",
          "text": [
            "[[ 0.68569351 -0.042434    1.27431544  0.51627069]\n",
            " [-0.042434    0.18997942 -0.32965638 -0.12163937]\n",
            " [ 1.27431544 -0.32965638  3.11627785  1.2956094 ]\n",
            " [ 0.51627069 -0.12163937  1.2956094   0.58100626]]\n"
          ]
        }
      ]
    },
    {
      "cell_type": "markdown",
      "source": [
        "## Correlation\n",
        "Covariance tells us about the direction of relationship but **Correlation** tells us both the strength and the direction of this relationship. Correlation helps us to determine whether or not, and how strongly, changes in various variables relate to each other.\n",
        "\n",
        "**The most important part of Correlation is that it is bounded between -1 and 1. -1 and 1 are known as perfact Correlation.**\n",
        "\n",
        "***Types of Correlation:***\n",
        "\n",
        "Correlation is commonly classified into **negative** and **positive correlation**.\n",
        "\n",
        "***Positive correlation:***\n",
        "\n",
        "The correlation is said to be positive when the variables move together in the same direction. When the income rises, consumption also rises.\n",
        "\n",
        "***Negative correlation:***\n",
        "\n",
        "The correlation is negative when they move in opposite directions. When the price of apples falls its demand increases.\n",
        "\n",
        "Note: If Correlation is 0 means no relationship between two variables.\n",
        "\n",
        "***TECHNIQUES FOR MEASURING CORRELATION:***\n",
        "\n",
        "1. **Scatter Diagram**: A scatter diagram is a useful technique for visually examining the form of relationship, without calculating any numerical value.\n",
        "2. **Karl Pearson’s Coefficient of Correlation**: This is also known as product moment correlation coefficient or simple correlation coefficient. It gives a precise numerical value of the degree of linear relationship between two variables X and Y. It is important to note that **Karl Pearson’s coefficient of correlation should be used only when there is a linear relation between the variables**.\n",
        "3. **Spearman’s rank correlation**:  -\tSpearman’s rank correlation coefficient can be used in some cases where **there is a relation whose direction is clear but which is nonlinear**.\n",
        "\n",
        "***Note***\n",
        "\n",
        "Spearman’s correlation coefficient is not affected by extreme values. In this respect, it is better than Karl Pearson’s correlation coefficient."
      ],
      "metadata": {
        "id": "oUcHHdPmC5UE"
      }
    },
    {
      "cell_type": "code",
      "source": [
        "import matplotlib.pyplot as plt\n",
        "%matplotlib inline\n",
        "def scatterplot_impl(data):\n",
        "    p=1\n",
        "    for i in range(data.shape[1]):\n",
        "        for j in range(data.shape[1]):\n",
        "            plt.subplot(data.shape[1],data.shape[1],p)\n",
        "            plt.scatter(data.iloc[:,i], data.iloc[:,j])\n",
        "            p+=1\n",
        "\n",
        "scatterplot_impl(data)"
      ],
      "metadata": {
        "colab": {
          "base_uri": "https://localhost:8080/",
          "height": 434
        },
        "id": "WL5YOXvnVMJy",
        "outputId": "50d221a9-2729-4ff2-bd3d-19e6eeef1e00"
      },
      "execution_count": 5,
      "outputs": [
        {
          "output_type": "display_data",
          "data": {
            "text/plain": [
              "<Figure size 640x480 with 16 Axes>"
            ],
            "image/png": "[encoded data removed]"
          },
          "metadata": {}
        }
      ]
    },
    {
      "cell_type": "markdown",
      "source": [
        "### Karl Pearson’s Coefficient of Correlation\n",
        "***formula:***\n",
        "\n",
        "$r=\\frac{\\Sigma{(X-\\overline{X})(Y-\\overline{Y})}}{\\sqrt{\\Sigma(X-\\overline{X})^2}\\sqrt{\\Sigma(Y-\\overline{Y})^2}}$\n"
      ],
      "metadata": {
        "id": "XP9PNBmxDNRO"
      }
    },
    {
      "cell_type": "code",
      "source": [
        "#standard deviation\n",
        "def std_dev(data):\n",
        "    a=mean_impl(data)\n",
        "    res=np.sqrt(((np.asarray(data)-a)*(np.asarray(data)-a)).sum())\n",
        "    return res\n",
        "def Pearson_Corr_Impl(data):\n",
        "    size=data.shape[1]\n",
        "    a=(np.asarray(data.iloc[:,0:1])-mean_impl(data.iloc[:,0:1]))\n",
        "    b=(np.asarray(data.iloc[:,0:1])-mean_impl(data.iloc[:,0:1]))\n",
        "    p=((a*b).sum())/(std_dev(data.iloc[:,0:1])*std_dev(data.iloc[:,0:1]))\n",
        "    if(size==2):\n",
        "        b=(np.asarray(data.iloc[:,1:2])-mean_impl(data.iloc[:,1:2]))\n",
        "        p=((a*b).sum())/(std_dev(data.iloc[:,0:1])*std_dev(data.iloc[:,1:2]))\n",
        "\n",
        "    return p\n",
        "Pearson_Corr_Impl(data.iloc[:,1:3])"
      ],
      "metadata": {
        "colab": {
          "base_uri": "https://localhost:8080/"
        },
        "id": "-6G4CG5_VR8c",
        "outputId": "ddcf2a7c-844d-4a03-d4ff-79002f807383"
      },
      "execution_count": 6,
      "outputs": [
        {
          "output_type": "execute_result",
          "data": {
            "text/plain": [
              "-0.42844010433053975"
            ]
          },
          "metadata": {},
          "execution_count": 6
        }
      ]
    },
    {
      "cell_type": "markdown",
      "source": [
        "### Spearman’s rank correlation\n",
        "***Formula:***\n",
        "\n",
        "$\\rho=1-\\frac{6*[\\Sigma{D_i^2}+\\frac{(m_1^3-m_1)}{12}+\\frac{(m_2^3-m_2)}{12}+...]}{n(n^2-1)}$\n",
        "\n",
        "where $m_1, m_2, ...$, are the number of repetitions of ranks. n is the number of observations and D the deviation of ranks assigned to a variable from those assigned to the other variable.\n"
      ],
      "metadata": {
        "id": "1H1CmyfJDSit"
      }
    },
    {
      "cell_type": "code",
      "source": [
        "#Rank finding for data\n",
        "from  collections import Counter\n",
        "def Rank_finder(data):\n",
        "    c=Counter(np.asarray(data.iloc[:,0:1]).flatten())\n",
        "    p = sorted(c.items(), reverse=True)\n",
        "    c1=np.sort(np.asarray(data.iloc[:,0:1]).flatten())[::-1]\n",
        "    cnt=0\n",
        "    lst=[]\n",
        "    for i in p:\n",
        "        a=(((i[1]+cnt)*(i[1]+cnt+1))/2 - (cnt*(cnt+1))/2)/i[1]\n",
        "        cnt=cnt+i[1]\n",
        "        for j in range(i[1]):\n",
        "            lst.append(a)\n",
        "    arrlst=np.asarray(lst)\n",
        "    final=dict(np.unique(np.stack([c1,arrlst], axis=1),axis=0)[::-1])\n",
        "    rank=[]\n",
        "    c1=np.asarray(data.iloc[:,0:1]).flatten()\n",
        "    for ele in c1:\n",
        "        rank.append(final[ele])\n",
        "    return rank\n",
        "#Rank_finder(data)"
      ],
      "metadata": {
        "id": "IgWcR06BVVq1"
      },
      "execution_count": 7,
      "outputs": []
    },
    {
      "cell_type": "code",
      "source": [
        "#Spearman’s rank correlation\n",
        "def Spearman_Rank_Corr(data):\n",
        "    c1=Counter(np.asarray(data.iloc[:,0:1]).flatten())\n",
        "    c2=Counter(np.asarray(data.iloc[:,1:2]).flatten())\n",
        "    data_len=data.shape[0] #Size of dataset(total records)\n",
        "    value=[]\n",
        "    for i in dict(c1).values():\n",
        "        value.append((i*(i*i-1))/12)\n",
        "    for i in dict(c2).values():\n",
        "        value.append((i*(i*i-1))/12)\n",
        "    value=np.asarray(list(set(value))).sum()\n",
        "    rank1=np.asarray(Rank_finder(data.iloc[:,0:1])) #Rank of first feature\n",
        "    rank2=np.asarray(Rank_finder(data.iloc[:,1:2])) #Rank of second feature\n",
        "    dist=rank1-rank2\n",
        "    dist2=(dist*dist).sum()\n",
        "    r=1-(6*(dist2+value))/(data_len*(data_len*data_len-1))\n",
        "    return r\n",
        "Spearman_Rank_Corr(data.iloc[:,[1,1]]) #takes input as dataframe with two features"
      ],
      "metadata": {
        "colab": {
          "base_uri": "https://localhost:8080/"
        },
        "id": "MorGqxdsVaGQ",
        "outputId": "3aa8a595-2f6e-49b5-d097-62276db9a1d4"
      },
      "execution_count": 8,
      "outputs": [
        {
          "output_type": "execute_result",
          "data": {
            "text/plain": [
              "0.9958318147473221"
            ]
          },
          "metadata": {},
          "execution_count": 8
        }
      ]
    },
    {
      "cell_type": "markdown",
      "source": [
        "## Correlation Matrix\n",
        "\n",
        "### What is a correlation matrix?\n",
        "* We use correlation coefficients to determine the relationship between two variables. if we want to evaluate the correlation among multiple pairs of variables? Then we use a correlation matrix.\n",
        "\n",
        "* A correlation matrix is essentially a table depicting the correlation coefficients for various variables.\n",
        "\n"
      ],
      "metadata": {
        "id": "knmeNq6GDfdO"
      }
    },
    {
      "cell_type": "code",
      "source": [
        "def Correlation_matrix(data):\n",
        "    result=[]\n",
        "    for i in range(data.shape[1]):\n",
        "        for j in range(data.shape[1]):\n",
        "            result.append(Pearson_Corr_Impl(data.iloc[:,[i,j]]))\n",
        "    print(np.asarray(result).reshape(data.shape[1],data.shape[1]))\n",
        "Correlation_matrix(data)"
      ],
      "metadata": {
        "colab": {
          "base_uri": "https://localhost:8080/"
        },
        "id": "P5jH3PkqVehD",
        "outputId": "e721bddd-95f2-48cd-a587-aee90902f4c5"
      },
      "execution_count": 9,
      "outputs": [
        {
          "output_type": "stream",
          "name": "stdout",
          "text": [
            "[[ 1.         -0.11756978  0.87175378  0.81794113]\n",
            " [-0.11756978  1.         -0.4284401  -0.36612593]\n",
            " [ 0.87175378 -0.4284401   1.          0.96286543]\n",
            " [ 0.81794113 -0.36612593  0.96286543  1.        ]]\n"
          ]
        }
      ]
    },
    {
      "cell_type": "code",
      "source": [
        "def Correlation_matrix(data):\n",
        "    result=[]\n",
        "    for i in range(data.shape[1]):\n",
        "        for j in range(data.shape[1]):\n",
        "            result.append(Spearman_Rank_Corr(data.iloc[:,[i,j]]))\n",
        "    print(np.asarray(result).reshape(data.shape[1],data.shape[1]))\n",
        "Correlation_matrix(data)"
      ],
      "metadata": {
        "colab": {
          "base_uri": "https://localhost:8080/"
        },
        "id": "csUDqpJxVhiO",
        "outputId": "7eb3949b-c77b-43a4-cbca-9c5ea0934c46"
      },
      "execution_count": 10,
      "outputs": [
        {
          "output_type": "stream",
          "name": "stdout",
          "text": [
            "[[ 0.99955998 -0.164978    0.88136717  0.83061469]\n",
            " [-0.164978    0.99583181 -0.30690253 -0.28509534]\n",
            " [ 0.88136717 -0.30690253  0.99948976  0.93365661]\n",
            " [ 0.83061469 -0.28509534  0.93365661  0.99562647]]\n"
          ]
        }
      ]
    },
    {
      "cell_type": "code",
      "source": [],
      "metadata": {
        "id": "YP3UvKdNVkhi"
      },
      "execution_count": null,
      "outputs": []
    }
  ]
}